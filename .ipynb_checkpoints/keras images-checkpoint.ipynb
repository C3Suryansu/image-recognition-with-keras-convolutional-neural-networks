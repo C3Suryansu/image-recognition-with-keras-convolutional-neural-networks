{
 "cells": [
  {
   "cell_type": "code",
   "execution_count": 1,
   "metadata": {
    "collapsed": false
   },
   "outputs": [
    {
     "name": "stdout",
     "output_type": "stream",
     "text": [
      "\u001b[31mtensorflow-serving-api 1.14.0 has requirement tensorflow~=1.14.0, but you'll have tensorflow 2.0.0b1 which is incompatible.\u001b[0m\n",
      "\u001b[33mYou are using pip version 10.0.1, however version 19.2.3 is available.\n",
      "You should consider upgrading via the 'pip install --upgrade pip' command.\u001b[0m\n"
     ]
    }
   ],
   "source": [
    "!pip install -q tensorflow==2.0.0-beta1"
   ]
  },
  {
   "cell_type": "code",
   "execution_count": 2,
   "metadata": {
    "collapsed": true
   },
   "outputs": [],
   "source": [
    "# Import libraries from Keras.\n",
    "\n",
    "import tensorflow as tf\n",
    "from tensorflow.keras import layers\n",
    "from tensorflow.keras import preprocessing\n",
    "from tensorflow.keras import models\n",
    "from tensorflow.keras.layers import Conv2D\n",
    "from tensorflow.keras.layers import Dense\n",
    "from tensorflow.keras.layers import Flatten\n",
    "from tensorflow.keras.preprocessing import image\n",
    "from tensorflow.keras.layers import MaxPooling2D\n",
    "from tensorflow.keras.models import Sequential\n",
    "import numpy as np"
   ]
  },
  {
   "cell_type": "code",
   "execution_count": 3,
   "metadata": {
    "collapsed": true
   },
   "outputs": [],
   "source": [
    "# Configure the CNN (Convolutional Neural Network).\n",
    "\n",
    "classifier = Sequential()\n",
    "\n",
    "# Convolution - extracting appropriate features from the input image.\n",
    "# Non-Linearity (RELU) - replacing all negative pixel values in feature map by zero.\n",
    "\n",
    "classifier.add(Conv2D(32, (3, 3), input_shape=(64, 64, 3),\n",
    "               activation='relu'))\n",
    "\n",
    "# Pooling: reduces dimensionality of the feature maps but keeps the most important information.\n",
    "\n",
    "classifier.add(MaxPooling2D(pool_size=(2, 2)))\n",
    "\n",
    "# Adding a second convolutional layer and flattening in order to arrange 3D volumes into a 1D vector.\n",
    "\n",
    "classifier.add(Conv2D(32, (3, 3), activation='relu'))\n",
    "classifier.add(MaxPooling2D(pool_size=(2, 2)))\n",
    "classifier.add(Flatten())\n",
    "\n",
    "# Fully connected layers: ensures connections to all activations in the previous layer.\n",
    "\n",
    "classifier.add(Dense(units=128, activation='relu'))\n",
    "classifier.add(Dense(units=1, activation='sigmoid'))"
   ]
  },
  {
   "cell_type": "code",
   "execution_count": 4,
   "metadata": {
    "collapsed": false
   },
   "outputs": [
    {
     "name": "stderr",
     "output_type": "stream",
     "text": [
      "Using TensorFlow backend.\n"
     ]
    },
    {
     "name": "stdout",
     "output_type": "stream",
     "text": [
      "Found 160 images belonging to 2 classes.\n",
      "Found 40 images belonging to 2 classes.\n",
      "Epoch 1/30\n"
     ]
    },
    {
     "name": "stderr",
     "output_type": "stream",
     "text": [
      "WARNING: Logging before flag parsing goes to stderr.\n",
      "W1006 21:33:14.305373 140316899690304 deprecation.py:323] From /home/ec2-user/anaconda3/envs/tensorflow_p36/lib/python3.6/site-packages/tensorflow/python/ops/math_grad.py:1250: add_dispatch_support.<locals>.wrapper (from tensorflow.python.ops.array_ops) is deprecated and will be removed in a future version.\n",
      "Instructions for updating:\n",
      "Use tf.where in 2.0, which has the same broadcast rule as np.where\n"
     ]
    },
    {
     "name": "stdout",
     "output_type": "stream",
     "text": [
      "30/30 [==============================] - 15s 488ms/step - loss: 0.4215 - accuracy: 0.7979 - val_loss: 0.3723 - val_accuracy: 0.7750\n",
      "Epoch 2/30\n",
      "30/30 [==============================] - 13s 433ms/step - loss: 0.2359 - accuracy: 0.8979 - val_loss: 0.7633 - val_accuracy: 0.7000\n",
      "Epoch 3/30\n",
      "30/30 [==============================] - 13s 436ms/step - loss: 0.1734 - accuracy: 0.9292 - val_loss: 0.5501 - val_accuracy: 0.8250\n",
      "Epoch 4/30\n",
      "30/30 [==============================] - 13s 434ms/step - loss: 0.1140 - accuracy: 0.9521 - val_loss: 0.4096 - val_accuracy: 0.8250\n",
      "Epoch 5/30\n",
      "30/30 [==============================] - 13s 436ms/step - loss: 0.0805 - accuracy: 0.9688 - val_loss: 0.5215 - val_accuracy: 0.8250\n",
      "Epoch 6/30\n",
      "30/30 [==============================] - 13s 438ms/step - loss: 0.0865 - accuracy: 0.9646 - val_loss: 0.8943 - val_accuracy: 0.8000\n",
      "Epoch 7/30\n",
      "30/30 [==============================] - 20s 661ms/step - loss: 0.0460 - accuracy: 0.9917 - val_loss: 0.7283 - val_accuracy: 0.8250\n",
      "Epoch 8/30\n",
      "30/30 [==============================] - 23s 781ms/step - loss: 0.0306 - accuracy: 0.9906 - val_loss: 0.3790 - val_accuracy: 0.8500\n",
      "Epoch 9/30\n",
      "30/30 [==============================] - 13s 437ms/step - loss: 0.0335 - accuracy: 0.9885 - val_loss: 0.4614 - val_accuracy: 0.8500\n",
      "Epoch 10/30\n",
      "30/30 [==============================] - 13s 436ms/step - loss: 0.0275 - accuracy: 0.9948 - val_loss: 1.0560 - val_accuracy: 0.8500\n",
      "Epoch 11/30\n",
      "30/30 [==============================] - 13s 433ms/step - loss: 0.0104 - accuracy: 1.0000 - val_loss: 0.5458 - val_accuracy: 0.8750\n",
      "Epoch 12/30\n",
      "30/30 [==============================] - 13s 438ms/step - loss: 0.0116 - accuracy: 0.9979 - val_loss: 0.6769 - val_accuracy: 0.8750\n",
      "Epoch 13/30\n",
      "30/30 [==============================] - 13s 435ms/step - loss: 0.0218 - accuracy: 0.9958 - val_loss: 0.4162 - val_accuracy: 0.9000\n",
      "Epoch 14/30\n",
      "30/30 [==============================] - 44s 1s/step - loss: 0.0197 - accuracy: 0.9948 - val_loss: 0.4848 - val_accuracy: 0.9000\n",
      "Epoch 15/30\n",
      "30/30 [==============================] - 58s 2s/step - loss: 0.0062 - accuracy: 0.9979 - val_loss: 0.4922 - val_accuracy: 0.9000\n",
      "Epoch 16/30\n",
      "30/30 [==============================] - 51s 2s/step - loss: 0.0041 - accuracy: 1.0000 - val_loss: 0.9066 - val_accuracy: 0.8500\n",
      "Epoch 17/30\n",
      "30/30 [==============================] - 49s 2s/step - loss: 0.0063 - accuracy: 0.9969 - val_loss: 0.5086 - val_accuracy: 0.8750\n",
      "Epoch 18/30\n",
      "30/30 [==============================] - 30s 998ms/step - loss: 0.0257 - accuracy: 0.9917 - val_loss: 0.3329 - val_accuracy: 0.9000\n",
      "Epoch 19/30\n",
      "30/30 [==============================] - 13s 435ms/step - loss: 0.0492 - accuracy: 0.9812 - val_loss: 0.3861 - val_accuracy: 0.8750\n",
      "Epoch 20/30\n",
      "30/30 [==============================] - 14s 469ms/step - loss: 0.0074 - accuracy: 1.0000 - val_loss: 0.9589 - val_accuracy: 0.8500\n",
      "Epoch 21/30\n",
      "30/30 [==============================] - 13s 438ms/step - loss: 0.0019 - accuracy: 1.0000 - val_loss: 0.7617 - val_accuracy: 0.8500\n",
      "Epoch 22/30\n",
      "30/30 [==============================] - 39s 1s/step - loss: 0.0019 - accuracy: 1.0000 - val_loss: 0.8029 - val_accuracy: 0.8500\n",
      "Epoch 23/30\n",
      "30/30 [==============================] - 50s 2s/step - loss: 0.0017 - accuracy: 1.0000 - val_loss: 1.1572 - val_accuracy: 0.8500\n",
      "Epoch 24/30\n",
      "30/30 [==============================] - 50s 2s/step - loss: 8.2299e-04 - accuracy: 1.0000 - val_loss: 0.7858 - val_accuracy: 0.8750\n",
      "Epoch 25/30\n",
      "30/30 [==============================] - 57s 2s/step - loss: 6.1269e-04 - accuracy: 1.0000 - val_loss: 0.9917 - val_accuracy: 0.8500\n",
      "Epoch 26/30\n",
      "30/30 [==============================] - 50s 2s/step - loss: 9.0415e-04 - accuracy: 1.0000 - val_loss: 0.8046 - val_accuracy: 0.8750\n",
      "Epoch 27/30\n",
      "30/30 [==============================] - 17s 556ms/step - loss: 5.0655e-04 - accuracy: 1.0000 - val_loss: 0.8751 - val_accuracy: 0.8750\n",
      "Epoch 28/30\n",
      "30/30 [==============================] - 13s 437ms/step - loss: 0.0032 - accuracy: 0.9990 - val_loss: 1.3445 - val_accuracy: 0.8250\n",
      "Epoch 29/30\n",
      "30/30 [==============================] - 13s 434ms/step - loss: 0.0334 - accuracy: 0.9885 - val_loss: 2.1478 - val_accuracy: 0.7750\n",
      "Epoch 30/30\n",
      "30/30 [==============================] - 13s 440ms/step - loss: 0.0427 - accuracy: 0.9854 - val_loss: 1.0470 - val_accuracy: 0.8250\n"
     ]
    }
   ],
   "source": [
    "# Compile the CNN and train the classifier..\n",
    "\n",
    "classifier.compile(optimizer='adam', loss='binary_crossentropy',\n",
    "                   metrics=['accuracy'])\n",
    "from keras.preprocessing.image import ImageDataGenerator\n",
    "train_imagedata = ImageDataGenerator(rescale=1. / 255, shear_range=0.2,\n",
    "        zoom_range=0.2, horizontal_flip=True)\n",
    "test_imagedata = ImageDataGenerator(rescale=1. / 255)\n",
    "training_set = \\\n",
    "    train_imagedata.flow_from_directory('data/training_set'\n",
    "        , target_size=(64, 64), batch_size=32, class_mode='binary')\n",
    "val_set = \\\n",
    "    test_imagedata.flow_from_directory('data/val_set'\n",
    "        , target_size=(64, 64), batch_size=32, class_mode='binary')\n",
    "history=classifier.fit_generator(training_set, steps_per_epoch=30, epochs=30,\n",
    "                         validation_data=val_set,\n",
    "                         validation_steps=30)"
   ]
  },
  {
   "cell_type": "code",
   "execution_count": 5,
   "metadata": {
    "collapsed": false
   },
   "outputs": [
    {
     "name": "stdout",
     "output_type": "stream",
     "text": [
      "dict_keys(['loss', 'accuracy', 'val_loss', 'val_accuracy'])\n"
     ]
    },
    {
     "data": {
      "text/plain": [
       "<Figure size 640x480 with 1 Axes>"
      ]
     },
     "metadata": {},
     "output_type": "display_data"
    }
   ],
   "source": [
    "# Plot training and validation loss/accuracy\n",
    "import matplotlib.pyplot as plt\n",
    "print(history.history.keys())\n",
    "# Loss\n",
    "plt.plot(history.history['loss'])\n",
    "plt.plot(history.history['val_loss'])\n",
    "plt.title('model loss')\n",
    "plt.ylabel('loss')\n",
    "plt.xlabel('epoch')\n",
    "plt.legend(['loss', 'val_loss'], loc='upper left')\n",
    "plt.show()"
   ]
  },
  {
   "cell_type": "code",
   "execution_count": 6,
   "metadata": {
    "collapsed": false
   },
   "outputs": [
    {
     "data": {
      "image/png": "[encoded data removed]",
      "text/plain": [
       "<Figure size 432x288 with 1 Axes>"
      ]
     },
     "metadata": {},
     "output_type": "display_data"
    }
   ],
   "source": [
    "# Accuracy\n",
    "plt.plot(history.history['accuracy'])\n",
    "plt.plot(history.history['val_accuracy'])\n",
    "plt.title('model accuracy')\n",
    "plt.ylabel('accuracy')\n",
    "plt.xlabel('epoch')\n",
    "plt.legend(['acc', 'val_acc'], loc='upper left')\n",
    "plt.show()"
   ]
  },
  {
   "cell_type": "code",
   "execution_count": 7,
   "metadata": {
    "collapsed": true
   },
   "outputs": [],
   "source": [
    "# Setting up a data augmentation configuration via ImageDataGenerator\n",
    "datagen = ImageDataGenerator(\n",
    "    rotation_range=40,\n",
    "    width_shift_range=0.2,\n",
    "    height_shift_range=0.2,\n",
    "    shear_range=0.2,\n",
    "    zoom_range=0.2,\n",
    "    horizontal_flip=True,\n",
    "    fill_mode='nearest')"
   ]
  },
  {
   "cell_type": "code",
   "execution_count": 8,
   "metadata": {
    "collapsed": true
   },
   "outputs": [],
   "source": [
    "import os, shutil\n",
    "train_cars_dir = 'data/training_set/cars'"
   ]
  },
  {
   "cell_type": "code",
   "execution_count": 9,
   "metadata": {
    "collapsed": true
   },
   "outputs": [],
   "source": [
    "fnames = [os.path.join(train_cars_dir, fname) for\n",
    "         fname in os.listdir(train_cars_dir)]"
   ]
  },
  {
   "cell_type": "code",
   "execution_count": 10,
   "metadata": {
    "collapsed": false
   },
   "outputs": [
    {
     "data": {
      "text/plain": [
       "['data/training_set/cars/car-3628717__340.jpg',\n",
       " 'data/training_set/cars/city-1284508__340.jpg',\n",
       " 'data/training_set/cars/aston-2119120__340.jpg',\n",
       " 'data/training_set/cars/car-1184860__340.jpg',\n",
       " 'data/training_set/cars/audi-1890494__340.jpg',\n",
       " 'data/training_set/cars/auto-1327801__340.jpg',\n",
       " 'data/training_set/cars/audi-1151768__340.jpg',\n",
       " 'data/training_set/cars/car-1245780__340.jpg',\n",
       " 'data/training_set/cars/car-3647352__340.jpg',\n",
       " 'data/training_set/cars/car-race-438467__340.jpg',\n",
       " 'data/training_set/cars/car-1093927__340.jpg',\n",
       " 'data/training_set/cars/car-984159__340.jpg',\n",
       " 'data/training_set/cars/automobile-1851299__340.jpg',\n",
       " 'data/training_set/cars/asphalt-3679117__340.jpg',\n",
       " 'data/training_set/cars/automobile-1209732__340.jpg',\n",
       " 'data/training_set/cars/automobile-2087749__340.jpg',\n",
       " 'data/training_set/cars/bmw-918408__340.jpg',\n",
       " 'data/training_set/cars/car-2617392__340.jpg',\n",
       " 'data/training_set/cars/car-604019__340.jpg',\n",
       " 'data/training_set/cars/classic-car-76423__340.jpg',\n",
       " 'data/training_set/cars/all-wheel-drive-299772__340.jpg',\n",
       " 'data/training_set/cars/bmw-m4-3169357__340.jpg',\n",
       " 'data/training_set/cars/classic-car-1209334__340.jpg',\n",
       " 'data/training_set/cars/aston-2118857__340.jpg',\n",
       " 'data/training_set/cars/classic-691043__340.jpg',\n",
       " 'data/training_set/cars/car-139529__340.jpg',\n",
       " 'data/training_set/cars/car-1772797__340.jpg',\n",
       " 'data/training_set/cars/car-1835506__340.jpg',\n",
       " 'data/training_set/cars/car-3484527__340.jpg',\n",
       " 'data/training_set/cars/cabriolet-3708152__340.jpg',\n",
       " 'data/training_set/cars/classic-car-574869__340.jpg',\n",
       " 'data/training_set/cars/auto-racing-558089__340.jpg',\n",
       " 'data/training_set/cars/auto-1515462__340.jpg',\n",
       " 'data/training_set/cars/car-1506922__340.jpg',\n",
       " 'data/training_set/cars/buildings-1851246__340.jpg',\n",
       " 'data/training_set/cars/car-482683__340.jpg',\n",
       " 'data/training_set/cars/automobile-176989__340.jpg',\n",
       " 'data/training_set/cars/blue-2118528__340.jpg',\n",
       " 'data/training_set/cars/car-3687680__340.jpg',\n",
       " 'data/training_set/cars/car-1283947__340.jpg',\n",
       " 'data/training_set/cars/car-1245706__340.jpg',\n",
       " 'data/training_set/cars/automobile-3729767__340.jpg',\n",
       " 'data/training_set/cars/bmw-918407__340.jpg',\n",
       " 'data/training_set/cars/car-828860__340.jpg',\n",
       " 'data/training_set/cars/auto-788747__340.jpg',\n",
       " 'data/training_set/cars/auto-1399087__340.jpg',\n",
       " 'data/training_set/cars/auto-3302898__340.jpg',\n",
       " 'data/training_set/cars/car-171416__340.jpg',\n",
       " 'data/training_set/cars/car-tire-1031579__340.jpg',\n",
       " 'data/training_set/cars/automobile-1838782__340.jpg',\n",
       " 'data/training_set/cars/car-2444514__340.jpg',\n",
       " 'data/training_set/cars/car-show-581067__340.jpg',\n",
       " 'data/training_set/cars/car-49278__340.jpg',\n",
       " 'data/training_set/cars/auto-2823855__340.jpg',\n",
       " 'data/training_set/cars/car-1081742__340.jpg',\n",
       " 'data/training_set/cars/chevrolet-637778__340.jpg',\n",
       " 'data/training_set/cars/car-show-581066__340.jpg',\n",
       " 'data/training_set/cars/auto-2179220__340.jpg',\n",
       " 'data/training_set/cars/classic-car-584118__340.jpg',\n",
       " 'data/training_set/cars/classic-car-1646996__340.jpg',\n",
       " 'data/training_set/cars/car-1209912__340.jpg',\n",
       " 'data/training_set/cars/car-2563506__340.jpg',\n",
       " 'data/training_set/cars/classic-car-362176__340.jpg',\n",
       " 'data/training_set/cars/car-1376190__340.jpg',\n",
       " 'data/training_set/cars/car-1030820__340.jpg',\n",
       " 'data/training_set/cars/bmw-3727172__340.jpg',\n",
       " 'data/training_set/cars/automobile-1850862__340.jpg',\n",
       " 'data/training_set/cars/car-172905__340.jpg',\n",
       " 'data/training_set/cars/automotive-1846910__340.jpg',\n",
       " 'data/training_set/cars/black-hills-hot-rod-3675047__340.jpg',\n",
       " 'data/training_set/cars/bmw-768688__340.jpg',\n",
       " 'data/training_set/cars/buick-1400243__340.jpg',\n",
       " 'data/training_set/cars/auto-383897__340.jpg',\n",
       " 'data/training_set/cars/car-3359874__340.jpg',\n",
       " 'data/training_set/cars/amsterdam-916561__340.jpg',\n",
       " 'data/training_set/cars/amg-1880381__340.jpg',\n",
       " 'data/training_set/cars/audi-798530__340.jpg',\n",
       " 'data/training_set/cars/car-931959__340.jpg',\n",
       " 'data/training_set/cars/body-kit-1869892__340.jpg',\n",
       " 'data/training_set/cars/automotive-1838744__340.jpg']"
      ]
     },
     "execution_count": 10,
     "metadata": {},
     "output_type": "execute_result"
    }
   ],
   "source": [
    "fnames"
   ]
  },
  {
   "cell_type": "code",
   "execution_count": 11,
   "metadata": {
    "collapsed": true
   },
   "outputs": [],
   "source": [
    "img_path = fnames[3]"
   ]
  },
  {
   "cell_type": "code",
   "execution_count": 12,
   "metadata": {
    "collapsed": true
   },
   "outputs": [],
   "source": [
    "img = image.load_img(img_path, target_size=(64, 64))"
   ]
  },
  {
   "cell_type": "code",
   "execution_count": 13,
   "metadata": {
    "collapsed": false
   },
   "outputs": [
    {
     "data": {
      "image/png": "[encoded data removed]",
      "text/plain": [
       "<PIL.Image.Image image mode=RGB size=64x64 at 0x7F9DBF4C13C8>"
      ]
     },
     "execution_count": 13,
     "metadata": {},
     "output_type": "execute_result"
    }
   ],
   "source": [
    "img"
   ]
  },
  {
   "cell_type": "code",
   "execution_count": 14,
   "metadata": {
    "collapsed": false
   },
   "outputs": [
    {
     "data": {
      "text/plain": [
       "array([[[[211., 216., 222.],\n",
       "         [214., 219., 225.],\n",
       "         [215., 220., 226.],\n",
       "         ...,\n",
       "         [ 37.,  44.,  26.],\n",
       "         [ 71.,  81.,  46.],\n",
       "         [ 13.,  23.,   0.]],\n",
       "\n",
       "        [[218., 223., 229.],\n",
       "         [215., 220., 226.],\n",
       "         [215., 220., 226.],\n",
       "         ...,\n",
       "         [ 83.,  89.,  61.],\n",
       "         [121., 130.,  83.],\n",
       "         [100., 110.,  57.]],\n",
       "\n",
       "        [[223., 228., 234.],\n",
       "         [221., 226., 232.],\n",
       "         [222., 227., 233.],\n",
       "         ...,\n",
       "         [112., 119.,  78.],\n",
       "         [161., 171., 110.],\n",
       "         [104., 112.,  63.]],\n",
       "\n",
       "        ...,\n",
       "\n",
       "        [[151., 165., 106.],\n",
       "         [103., 112.,  59.],\n",
       "         [ 99., 109.,  56.],\n",
       "         ...,\n",
       "         [116., 129.,  83.],\n",
       "         [103., 116.,  73.],\n",
       "         [135., 152.,  97.]],\n",
       "\n",
       "        [[ 64.,  76.,  12.],\n",
       "         [126., 122.,  74.],\n",
       "         [ 87., 102.,  43.],\n",
       "         ...,\n",
       "         [100., 117.,  62.],\n",
       "         [106., 122.,  73.],\n",
       "         [ 63.,  72.,  25.]],\n",
       "\n",
       "        [[145., 162.,  94.],\n",
       "         [ 13.,  16.,   0.],\n",
       "         [179., 189., 139.],\n",
       "         ...,\n",
       "         [ 75.,  93.,  41.],\n",
       "         [ 97., 111.,  58.],\n",
       "         [164., 179., 124.]]]], dtype=float32)"
      ]
     },
     "execution_count": 14,
     "metadata": {},
     "output_type": "execute_result"
    }
   ],
   "source": [
    "x = image.img_to_array(img)\n",
    "x = x.reshape((1,) + x.shape)\n",
    "x"
   ]
  },
  {
   "cell_type": "code",
   "execution_count": 15,
   "metadata": {
    "collapsed": false
   },
   "outputs": [
    {
     "data": {
      "image/png": "[encoded data removed]",
      "text/plain": [
       "<Figure size 432x288 with 1 Axes>"
      ]
     },
     "metadata": {},
     "output_type": "display_data"
    },
    {
     "data": {
      "image/png": "[encoded data removed]",
      "text/plain": [
       "<Figure size 432x288 with 1 Axes>"
      ]
     },
     "metadata": {},
     "output_type": "display_data"
    },
    {
     "data": {
      "image/png": "[encoded data removed]",
      "text/plain": [
       "<Figure size 432x288 with 1 Axes>"
      ]
     },
     "metadata": {},
     "output_type": "display_data"
    },
    {
     "data": {
      "image/png": "[encoded data removed]",
      "text/plain": [
       "<Figure size 432x288 with 1 Axes>"
      ]
     },
     "metadata": {},
     "output_type": "display_data"
    }
   ],
   "source": [
    "# Remixing existing information\n",
    "\n",
    "i = 0\n",
    "for batch in datagen.flow(x, batch_size=1):\n",
    "    plt.figure(i)\n",
    "    imgplot = plt.imshow(image.array_to_img(batch[0]))\n",
    "    i += 1\n",
    "    if i % 4 == 0:\n",
    "        break\n",
    "\n",
    "plt.show()"
   ]
  },
  {
   "cell_type": "code",
   "execution_count": 16,
   "metadata": {
    "collapsed": false
   },
   "outputs": [
    {
     "name": "stdout",
     "output_type": "stream",
     "text": [
      "Downloading data from https://github.com/fchollet/deep-learning-models/releases/download/v0.1/vgg16_weights_tf_dim_ordering_tf_kernels_notop.h5\n",
      "58892288/58889256 [==============================] - 2s 0us/step\n"
     ]
    }
   ],
   "source": [
    "# Trainable attribute set to False in order to freeze the convolutional base - this is done to prevent weights from updating during training.\n",
    "\n",
    "from tensorflow.keras.applications import VGG16\n",
    "\n",
    "conv_base = VGG16(weights='imagenet',\n",
    "                  include_top=False,\n",
    "                  input_shape=(64,64,3))\n",
    "\n",
    "conv_base.trainable=False"
   ]
  },
  {
   "cell_type": "code",
   "execution_count": 17,
   "metadata": {
    "collapsed": false
   },
   "outputs": [
    {
     "name": "stdout",
     "output_type": "stream",
     "text": [
      "Model: \"vgg16\"\n",
      "_________________________________________________________________\n",
      "Layer (type)                 Output Shape              Param #   \n",
      "=================================================================\n",
      "input_1 (InputLayer)         [(None, 64, 64, 3)]       0         \n",
      "_________________________________________________________________\n",
      "block1_conv1 (Conv2D)        (None, 64, 64, 64)        1792      \n",
      "_________________________________________________________________\n",
      "block1_conv2 (Conv2D)        (None, 64, 64, 64)        36928     \n",
      "_________________________________________________________________\n",
      "block1_pool (MaxPooling2D)   (None, 32, 32, 64)        0         \n",
      "_________________________________________________________________\n",
      "block2_conv1 (Conv2D)        (None, 32, 32, 128)       73856     \n",
      "_________________________________________________________________\n",
      "block2_conv2 (Conv2D)        (None, 32, 32, 128)       147584    \n",
      "_________________________________________________________________\n",
      "block2_pool (MaxPooling2D)   (None, 16, 16, 128)       0         \n",
      "_________________________________________________________________\n",
      "block3_conv1 (Conv2D)        (None, 16, 16, 256)       295168    \n",
      "_________________________________________________________________\n",
      "block3_conv2 (Conv2D)        (None, 16, 16, 256)       590080    \n",
      "_________________________________________________________________\n",
      "block3_conv3 (Conv2D)        (None, 16, 16, 256)       590080    \n",
      "_________________________________________________________________\n",
      "block3_pool (MaxPooling2D)   (None, 8, 8, 256)         0         \n",
      "_________________________________________________________________\n",
      "block4_conv1 (Conv2D)        (None, 8, 8, 512)         1180160   \n",
      "_________________________________________________________________\n",
      "block4_conv2 (Conv2D)        (None, 8, 8, 512)         2359808   \n",
      "_________________________________________________________________\n",
      "block4_conv3 (Conv2D)        (None, 8, 8, 512)         2359808   \n",
      "_________________________________________________________________\n",
      "block4_pool (MaxPooling2D)   (None, 4, 4, 512)         0         \n",
      "_________________________________________________________________\n",
      "block5_conv1 (Conv2D)        (None, 4, 4, 512)         2359808   \n",
      "_________________________________________________________________\n",
      "block5_conv2 (Conv2D)        (None, 4, 4, 512)         2359808   \n",
      "_________________________________________________________________\n",
      "block5_conv3 (Conv2D)        (None, 4, 4, 512)         2359808   \n",
      "_________________________________________________________________\n",
      "block5_pool (MaxPooling2D)   (None, 2, 2, 512)         0         \n",
      "=================================================================\n",
      "Total params: 14,714,688\n",
      "Trainable params: 0\n",
      "Non-trainable params: 14,714,688\n",
      "_________________________________________________________________\n"
     ]
    }
   ],
   "source": [
    "conv_base.summary()"
   ]
  },
  {
   "cell_type": "code",
   "execution_count": 18,
   "metadata": {
    "collapsed": true
   },
   "outputs": [],
   "source": [
    "model = tf.keras.Sequential()\n",
    "model.add(conv_base)\n",
    "model.add(layers.Flatten())\n",
    "model.add(layers.Dropout(0.5))\n",
    "model.add(layers.Dense(512, activation='relu'))\n",
    "model.add(layers.Dense(1, activation='sigmoid'))"
   ]
  },
  {
   "cell_type": "code",
   "execution_count": 19,
   "metadata": {
    "collapsed": true
   },
   "outputs": [],
   "source": [
    "from tensorflow.keras import optimizers\n",
    "\n",
    "model.compile(loss='binary_crossentropy',\n",
    "             optimizer=optimizers.RMSprop(lr=1e-4),\n",
    "             metrics=['acc'])"
   ]
  },
  {
   "cell_type": "code",
   "execution_count": 20,
   "metadata": {
    "collapsed": true
   },
   "outputs": [],
   "source": [
    "train_dir = 'data/training_set'\n",
    "validation_dir = 'data/val_set'"
   ]
  },
  {
   "cell_type": "code",
   "execution_count": 21,
   "metadata": {
    "collapsed": true
   },
   "outputs": [],
   "source": [
    "train_datagen = ImageDataGenerator(\n",
    "    rescale=1./255,\n",
    "    rotation_range=40,\n",
    "    width_shift_range=0.2,\n",
    "    height_shift_range=0.2,\n",
    "    shear_range=0.2,\n",
    "    zoom_range=0.2,\n",
    "    horizontal_flip=True,)\n",
    "\n",
    "val_datagen = ImageDataGenerator(rescale=1./255)"
   ]
  },
  {
   "cell_type": "code",
   "execution_count": 22,
   "metadata": {
    "collapsed": false
   },
   "outputs": [
    {
     "name": "stdout",
     "output_type": "stream",
     "text": [
      "Found 160 images belonging to 2 classes.\n",
      "Found 40 images belonging to 2 classes.\n"
     ]
    }
   ],
   "source": [
    "train_generator = train_datagen.flow_from_directory(\n",
    "    train_dir,\n",
    "    target_size=(64, 64),\n",
    "    batch_size=32,\n",
    "    class_mode='binary')\n",
    "\n",
    "validation_generator = val_datagen.flow_from_directory(\n",
    "    validation_dir,\n",
    "    target_size=(64, 64),\n",
    "    batch_size=32,\n",
    "    class_mode='binary')"
   ]
  },
  {
   "cell_type": "code",
   "execution_count": 23,
   "metadata": {
    "collapsed": false
   },
   "outputs": [
    {
     "name": "stdout",
     "output_type": "stream",
     "text": [
      "Epoch 1/30\n",
      "30/30 [==============================] - 130s 4s/step - loss: 0.4985 - acc: 0.7802 - val_loss: 0.4927 - val_acc: 0.7250\n",
      "Epoch 2/30\n",
      "30/30 [==============================] - 131s 4s/step - loss: 0.3270 - acc: 0.8760 - val_loss: 0.4661 - val_acc: 0.8000\n",
      "Epoch 3/30\n",
      "30/30 [==============================] - 159s 5s/step - loss: 0.2735 - acc: 0.8813 - val_loss: 0.4323 - val_acc: 0.8000\n",
      "Epoch 4/30\n",
      "30/30 [==============================] - 96s 3s/step - loss: 0.2546 - acc: 0.9010 - val_loss: 0.3827 - val_acc: 0.8250\n",
      "Epoch 5/30\n",
      "30/30 [==============================] - 195s 7s/step - loss: 0.2225 - acc: 0.9115 - val_loss: 0.3767 - val_acc: 0.8000\n",
      "Epoch 6/30\n",
      "30/30 [==============================] - 57s 2s/step - loss: 0.2038 - acc: 0.9208 - val_loss: 0.4040 - val_acc: 0.8000\n",
      "Epoch 7/30\n",
      "30/30 [==============================] - 217s 7s/step - loss: 0.1892 - acc: 0.9281 - val_loss: 0.3674 - val_acc: 0.8500\n",
      "Epoch 8/30\n",
      "30/30 [==============================] - 59s 2s/step - loss: 0.2043 - acc: 0.9177 - val_loss: 0.3294 - val_acc: 0.8000\n",
      "Epoch 9/30\n",
      "30/30 [==============================] - 199s 7s/step - loss: 0.1939 - acc: 0.9229 - val_loss: 0.3208 - val_acc: 0.8250\n",
      "Epoch 10/30\n",
      "30/30 [==============================] - 92s 3s/step - loss: 0.1628 - acc: 0.9385 - val_loss: 0.3064 - val_acc: 0.8750\n",
      "Epoch 11/30\n",
      "30/30 [==============================] - 159s 5s/step - loss: 0.1626 - acc: 0.9406 - val_loss: 0.3058 - val_acc: 0.8500\n",
      "Epoch 12/30\n",
      "30/30 [==============================] - 133s 4s/step - loss: 0.1700 - acc: 0.9312 - val_loss: 0.2971 - val_acc: 0.8750\n",
      "Epoch 13/30\n",
      "30/30 [==============================] - 126s 4s/step - loss: 0.1566 - acc: 0.9396 - val_loss: 0.3090 - val_acc: 0.8750\n",
      "Epoch 14/30\n",
      "30/30 [==============================] - 166s 6s/step - loss: 0.1627 - acc: 0.9333 - val_loss: 0.2925 - val_acc: 0.8500\n",
      "Epoch 15/30\n",
      "30/30 [==============================] - 87s 3s/step - loss: 0.1297 - acc: 0.9500 - val_loss: 0.2994 - val_acc: 0.8750\n",
      "Epoch 16/30\n",
      "30/30 [==============================] - 203s 7s/step - loss: 0.1354 - acc: 0.9500 - val_loss: 0.2923 - val_acc: 0.8750\n",
      "Epoch 17/30\n",
      "30/30 [==============================] - 73s 2s/step - loss: 0.1454 - acc: 0.9417 - val_loss: 0.2894 - val_acc: 0.8750\n",
      "Epoch 18/30\n",
      "30/30 [==============================] - 214s 7s/step - loss: 0.1393 - acc: 0.9438 - val_loss: 0.2946 - val_acc: 0.8750\n",
      "Epoch 19/30\n",
      "30/30 [==============================] - 49s 2s/step - loss: 0.1285 - acc: 0.9500 - val_loss: 0.3008 - val_acc: 0.8750\n",
      "Epoch 20/30\n",
      "30/30 [==============================] - 204s 7s/step - loss: 0.1389 - acc: 0.9458 - val_loss: 0.3451 - val_acc: 0.8750\n",
      "Epoch 21/30\n",
      "30/30 [==============================] - 88s 3s/step - loss: 0.1246 - acc: 0.9479 - val_loss: 0.2912 - val_acc: 0.8750\n",
      "Epoch 22/30\n",
      "30/30 [==============================] - 173s 6s/step - loss: 0.1430 - acc: 0.9521 - val_loss: 0.2881 - val_acc: 0.8750\n",
      "Epoch 23/30\n",
      "30/30 [==============================] - 119s 4s/step - loss: 0.1523 - acc: 0.9333 - val_loss: 0.2870 - val_acc: 0.8750\n",
      "Epoch 24/30\n",
      "30/30 [==============================] - 136s 5s/step - loss: 0.1325 - acc: 0.9427 - val_loss: 0.2716 - val_acc: 0.8750\n",
      "Epoch 25/30\n",
      "30/30 [==============================] - 156s 5s/step - loss: 0.1007 - acc: 0.9594 - val_loss: 0.2915 - val_acc: 0.8750\n",
      "Epoch 26/30\n",
      "30/30 [==============================] - 105s 4s/step - loss: 0.1191 - acc: 0.9490 - val_loss: 0.2782 - val_acc: 0.8750\n",
      "Epoch 27/30\n",
      "30/30 [==============================] - 186s 6s/step - loss: 0.1149 - acc: 0.9531 - val_loss: 0.2783 - val_acc: 0.8750\n",
      "Epoch 28/30\n",
      "30/30 [==============================] - 84s 3s/step - loss: 0.1362 - acc: 0.9469 - val_loss: 0.2834 - val_acc: 0.8750\n",
      "Epoch 29/30\n",
      "30/30 [==============================] - 211s 7s/step - loss: 0.1200 - acc: 0.9490 - val_loss: 0.2742 - val_acc: 0.8750\n",
      "Epoch 30/30\n",
      "30/30 [==============================] - 67s 2s/step - loss: 0.1012 - acc: 0.9583 - val_loss: 0.2831 - val_acc: 0.8750\n"
     ]
    }
   ],
   "source": [
    "history = model.fit_generator(\n",
    "    train_generator,\n",
    "    steps_per_epoch=30,\n",
    "    epochs=30,\n",
    "    validation_data=validation_generator,\n",
    "    validation_steps=30)"
   ]
  },
  {
   "cell_type": "code",
   "execution_count": 24,
   "metadata": {
    "collapsed": false
   },
   "outputs": [
    {
     "data": {
      "image/png": "[encoded data removed]",
      "text/plain": [
       "<Figure size 432x288 with 1 Axes>"
      ]
     },
     "metadata": {},
     "output_type": "display_data"
    }
   ],
   "source": [
    "# Loss\n",
    "plt.plot(history.history['loss'])\n",
    "plt.plot(history.history['val_loss'])\n",
    "plt.title('model loss')\n",
    "plt.ylabel('loss')\n",
    "plt.xlabel('epoch')\n",
    "plt.legend(['loss', 'val_loss'], loc='upper left')\n",
    "plt.show()"
   ]
  },
  {
   "cell_type": "code",
   "execution_count": 25,
   "metadata": {
    "collapsed": false
   },
   "outputs": [
    {
     "data": {
      "image/png": "[encoded data removed]",
      "text/plain": [
       "<Figure size 432x288 with 1 Axes>"
      ]
     },
     "metadata": {},
     "output_type": "display_data"
    }
   ],
   "source": [
    "# Accuracy\n",
    "plt.plot(history.history['acc'])\n",
    "plt.plot(history.history['val_acc'])\n",
    "plt.title('model accuracy')\n",
    "plt.ylabel('accuracy')\n",
    "plt.xlabel('epoch')\n",
    "plt.legend(['acc', 'val_acc'], loc='upper left')\n",
    "plt.show()"
   ]
  },
  {
   "cell_type": "code",
   "execution_count": 29,
   "metadata": {
    "collapsed": false
   },
   "outputs": [
    {
     "data": {
      "text/plain": [
       "array([[1.]], dtype=float32)"
      ]
     },
     "execution_count": 29,
     "metadata": {},
     "output_type": "execute_result"
    }
   ],
   "source": [
    "# Generate predictions\n",
    "\n",
    "import numpy as np\n",
    "from keras.preprocessing import image\n",
    "\n",
    "# car = 0, plane = 1\n",
    "\n",
    "# image = plane\n",
    "\n",
    "test_image = \\\n",
    "    image.load_img('data/test/photo-1430402393301-f3b159a7a65a.jpg'\n",
    "                   , target_size=(64, 64))\n",
    "test_image = image.img_to_array(test_image)\n",
    "test_image = np.expand_dims(test_image, axis=0)\n",
    "result = classifier.predict(test_image)\n",
    "training_set.class_indices\n",
    "result"
   ]
  },
  {
   "cell_type": "code",
   "execution_count": 30,
   "metadata": {
    "collapsed": false
   },
   "outputs": [
    {
     "data": {
      "text/plain": [
       "array([[0.]], dtype=float32)"
      ]
     },
     "execution_count": 30,
     "metadata": {},
     "output_type": "execute_result"
    }
   ],
   "source": [
    "# car = 0, plane = 1\n",
    "\n",
    "# image = car\n",
    "\n",
    "test_image = \\\n",
    "    image.load_img('data/test/photo-1542362567-b07e54358753.jpg'\n",
    "                   , target_size=(64, 64))\n",
    "test_image = image.img_to_array(test_image)\n",
    "test_image = np.expand_dims(test_image, axis=0)\n",
    "result = classifier.predict(test_image)\n",
    "training_set.class_indices\n",
    "result"
   ]
  },
  {
   "cell_type": "code",
   "execution_count": 31,
   "metadata": {
    "collapsed": false
   },
   "outputs": [
    {
     "data": {
      "text/plain": [
       "array([[0.]], dtype=float32)"
      ]
     },
     "execution_count": 31,
     "metadata": {},
     "output_type": "execute_result"
    }
   ],
   "source": [
    "# car = 0, plane = 1\n",
    "\n",
    "# image = car\n",
    "\n",
    "test_image = \\\n",
    "    image.load_img('data/test/photo-1541443131876-44b03de101c5.jpg'\n",
    "                   , target_size=(64, 64))\n",
    "test_image = image.img_to_array(test_image)\n",
    "test_image = np.expand_dims(test_image, axis=0)\n",
    "result = classifier.predict(test_image)\n",
    "training_set.class_indices\n",
    "result"
   ]
  },
  {
   "cell_type": "code",
   "execution_count": 32,
   "metadata": {
    "collapsed": false
   },
   "outputs": [
    {
     "data": {
      "text/plain": [
       "array([[0.]], dtype=float32)"
      ]
     },
     "execution_count": 32,
     "metadata": {},
     "output_type": "execute_result"
    }
   ],
   "source": [
    "# car = 0, plane = 1\n",
    "\n",
    "# image = car\n",
    "\n",
    "test_image = \\\n",
    "    image.load_img('data/test/photo-1532974297617-c0f05fe48bff.jpg'\n",
    "                   , target_size=(64, 64))\n",
    "test_image = image.img_to_array(test_image)\n",
    "test_image = np.expand_dims(test_image, axis=0)\n",
    "result = classifier.predict(test_image)\n",
    "training_set.class_indices\n",
    "result"
   ]
  },
  {
   "cell_type": "code",
   "execution_count": 33,
   "metadata": {
    "collapsed": false
   },
   "outputs": [
    {
     "data": {
      "text/plain": [
       "array([[0.]], dtype=float32)"
      ]
     },
     "execution_count": 33,
     "metadata": {},
     "output_type": "execute_result"
    }
   ],
   "source": [
    "# car = 0, plane = 1\n",
    "\n",
    "# image = car\n",
    "\n",
    "test_image = \\\n",
    "    image.load_img('data/test/photo-1520340356584-f9917d1eea6f.jpg'\n",
    "                   , target_size=(64, 64))\n",
    "test_image = image.img_to_array(test_image)\n",
    "test_image = np.expand_dims(test_image, axis=0)\n",
    "result = classifier.predict(test_image)\n",
    "training_set.class_indices\n",
    "result"
   ]
  },
  {
   "cell_type": "code",
   "execution_count": 34,
   "metadata": {
    "collapsed": false
   },
   "outputs": [
    {
     "data": {
      "text/plain": [
       "array([[0.]], dtype=float32)"
      ]
     },
     "execution_count": 34,
     "metadata": {},
     "output_type": "execute_result"
    }
   ],
   "source": [
    "# car = 0, plane = 1\n",
    "\n",
    "# image = car\n",
    "\n",
    "test_image = \\\n",
    "    image.load_img('data/test/photo-1519641471654-76ce0107ad1b.jpg'\n",
    "                   , target_size=(64, 64))\n",
    "test_image = image.img_to_array(test_image)\n",
    "test_image = np.expand_dims(test_image, axis=0)\n",
    "result = classifier.predict(test_image)\n",
    "training_set.class_indices\n",
    "result"
   ]
  },
  {
   "cell_type": "code",
   "execution_count": 35,
   "metadata": {
    "collapsed": false
   },
   "outputs": [
    {
     "data": {
      "text/plain": [
       "array([[1.]], dtype=float32)"
      ]
     },
     "execution_count": 35,
     "metadata": {},
     "output_type": "execute_result"
    }
   ],
   "source": [
    "# car = 0, plane = 1\n",
    "\n",
    "# image = plane\n",
    "\n",
    "test_image = \\\n",
    "    image.load_img('data/test/photo-1512289984044-071903207f5e.jpg'\n",
    "                   , target_size=(64, 64))\n",
    "test_image = image.img_to_array(test_image)\n",
    "test_image = np.expand_dims(test_image, axis=0)\n",
    "result = classifier.predict(test_image)\n",
    "training_set.class_indices\n",
    "result"
   ]
  },
  {
   "cell_type": "code",
   "execution_count": 36,
   "metadata": {
    "collapsed": false
   },
   "outputs": [
    {
     "data": {
      "text/plain": [
       "array([[0.]], dtype=float32)"
      ]
     },
     "execution_count": 36,
     "metadata": {},
     "output_type": "execute_result"
    }
   ],
   "source": [
    "# car = 0, plane = 1\n",
    "\n",
    "# image = car\n",
    "\n",
    "test_image = \\\n",
    "    image.load_img('data/test/photo-1511919884226-fd3cad34687c.jpg'\n",
    "                   , target_size=(64, 64))\n",
    "test_image = image.img_to_array(test_image)\n",
    "test_image = np.expand_dims(test_image, axis=0)\n",
    "result = classifier.predict(test_image)\n",
    "training_set.class_indices\n",
    "result"
   ]
  },
  {
   "cell_type": "code",
   "execution_count": 37,
   "metadata": {
    "collapsed": false
   },
   "outputs": [
    {
     "data": {
      "text/plain": [
       "array([[0.]], dtype=float32)"
      ]
     },
     "execution_count": 37,
     "metadata": {},
     "output_type": "execute_result"
    }
   ],
   "source": [
    "# car = 0, plane = 1\n",
    "\n",
    "# image = car\n",
    "\n",
    "test_image = \\\n",
    "    image.load_img('data/test/photo-1502877338535-766e1452684a.jpg'\n",
    "                   , target_size=(64, 64))\n",
    "test_image = image.img_to_array(test_image)\n",
    "test_image = np.expand_dims(test_image, axis=0)\n",
    "result = classifier.predict(test_image)\n",
    "training_set.class_indices\n",
    "result"
   ]
  },
  {
   "cell_type": "code",
   "execution_count": 38,
   "metadata": {
    "collapsed": false
   },
   "outputs": [
    {
     "data": {
      "text/plain": [
       "array([[1.]], dtype=float32)"
      ]
     },
     "execution_count": 38,
     "metadata": {},
     "output_type": "execute_result"
    }
   ],
   "source": [
    "# car = 0, plane = 1\n",
    "\n",
    "# image = plane\n",
    "\n",
    "test_image = \\\n",
    "    image.load_img('data/test/photo-1498423281417-af8aff4579dc.jpg'\n",
    "                   , target_size=(64, 64))\n",
    "test_image = image.img_to_array(test_image)\n",
    "test_image = np.expand_dims(test_image, axis=0)\n",
    "result = classifier.predict(test_image)\n",
    "training_set.class_indices\n",
    "result"
   ]
  },
  {
   "cell_type": "code",
   "execution_count": 39,
   "metadata": {
    "collapsed": false
   },
   "outputs": [
    {
     "data": {
      "text/plain": [
       "array([[0.]], dtype=float32)"
      ]
     },
     "execution_count": 39,
     "metadata": {},
     "output_type": "execute_result"
    }
   ],
   "source": [
    "# car = 0, plane = 1\n",
    "\n",
    "# image = car\n",
    "\n",
    "test_image = \\\n",
    "    image.load_img('data/test/photo-1494905998402-395d579af36f.jpg'\n",
    "                   , target_size=(64, 64))\n",
    "test_image = image.img_to_array(test_image)\n",
    "test_image = np.expand_dims(test_image, axis=0)\n",
    "result = classifier.predict(test_image)\n",
    "training_set.class_indices\n",
    "result"
   ]
  },
  {
   "cell_type": "code",
   "execution_count": 40,
   "metadata": {
    "collapsed": false
   },
   "outputs": [
    {
     "data": {
      "text/plain": [
       "array([[0.]], dtype=float32)"
      ]
     },
     "execution_count": 40,
     "metadata": {},
     "output_type": "execute_result"
    }
   ],
   "source": [
    "# car = 0, plane = 1\n",
    "\n",
    "# image = car\n",
    "\n",
    "test_image = \\\n",
    "    image.load_img('data/test/photo-1489824904134-891ab64532f1.jpg'\n",
    "                   , target_size=(64, 64))\n",
    "test_image = image.img_to_array(test_image)\n",
    "test_image = np.expand_dims(test_image, axis=0)\n",
    "result = classifier.predict(test_image)\n",
    "training_set.class_indices\n",
    "result"
   ]
  },
  {
   "cell_type": "code",
   "execution_count": 41,
   "metadata": {
    "collapsed": false
   },
   "outputs": [
    {
     "data": {
      "text/plain": [
       "array([[1.]], dtype=float32)"
      ]
     },
     "execution_count": 41,
     "metadata": {},
     "output_type": "execute_result"
    }
   ],
   "source": [
    "# car = 0, plane = 1\n",
    "\n",
    "# image = plane\n",
    "\n",
    "test_image = \\\n",
    "    image.load_img('data/test/photo-1483375801503-374c5f660610.jpg'\n",
    "                   , target_size=(64, 64))\n",
    "test_image = image.img_to_array(test_image)\n",
    "test_image = np.expand_dims(test_image, axis=0)\n",
    "result = classifier.predict(test_image)\n",
    "training_set.class_indices\n",
    "result"
   ]
  },
  {
   "cell_type": "code",
   "execution_count": 42,
   "metadata": {
    "collapsed": false
   },
   "outputs": [
    {
     "data": {
      "text/plain": [
       "array([[1.]], dtype=float32)"
      ]
     },
     "execution_count": 42,
     "metadata": {},
     "output_type": "execute_result"
    }
   ],
   "source": [
    "# car = 0, plane = 1\n",
    "\n",
    "# image = plane\n",
    "\n",
    "test_image = \\\n",
    "    image.load_img('data/test/photo-1475088092121-b7d3cd6e1482.jpg'\n",
    "                   , target_size=(64, 64))\n",
    "test_image = image.img_to_array(test_image)\n",
    "test_image = np.expand_dims(test_image, axis=0)\n",
    "result = classifier.predict(test_image)\n",
    "training_set.class_indices\n",
    "result"
   ]
  },
  {
   "cell_type": "code",
   "execution_count": 43,
   "metadata": {
    "collapsed": false
   },
   "outputs": [
    {
     "data": {
      "text/plain": [
       "array([[0.]], dtype=float32)"
      ]
     },
     "execution_count": 43,
     "metadata": {},
     "output_type": "execute_result"
    }
   ],
   "source": [
    "# car = 0, plane = 1\n",
    "\n",
    "# image = plane\n",
    "\n",
    "test_image = \\\n",
    "    image.load_img('data/test/photo-1473862170180-84427c485aca.jpg'\n",
    "                   , target_size=(64, 64))\n",
    "test_image = image.img_to_array(test_image)\n",
    "test_image = np.expand_dims(test_image, axis=0)\n",
    "result = classifier.predict(test_image)\n",
    "training_set.class_indices\n",
    "result"
   ]
  },
  {
   "cell_type": "code",
   "execution_count": null,
   "metadata": {
    "collapsed": true
   },
   "outputs": [],
   "source": []
  }
 ],
 "metadata": {
  "kernelspec": {
   "display_name": "Python 3",
   "language": "python",
   "name": "python3"
  },
  "language_info": {
   "codemirror_mode": {
    "name": "ipython",
    "version": 3
   },
   "file_extension": ".py",
   "mimetype": "text/x-python",
   "name": "python",
   "nbconvert_exporter": "python",
   "pygments_lexer": "ipython3",
   "version": "3.6.0"
  }
 },
 "nbformat": 4,
 "nbformat_minor": 2
}
